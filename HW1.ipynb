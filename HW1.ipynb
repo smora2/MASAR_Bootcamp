{
  "nbformat": 4,
  "nbformat_minor": 0,
  "metadata": {
    "colab": {
      "provenance": [],
      "authorship_tag": "ABX9TyP7kfqeceIe5gYjp11mWdbl",
      "include_colab_link": true
    },
    "kernelspec": {
      "name": "python3",
      "display_name": "Python 3"
    },
    "language_info": {
      "name": "python"
    }
  },
  "cells": [
    {
      "cell_type": "markdown",
      "metadata": {
        "id": "view-in-github",
        "colab_type": "text"
      },
      "source": [
        "<a href=\"https://colab.research.google.com/github/smora2/MASAR_Bootcamp/blob/main/HW1.ipynb\" target=\"_parent\"><img src=\"https://colab.research.google.com/assets/colab-badge.svg\" alt=\"Open In Colab\"/></a>"
      ]
    },
    {
      "cell_type": "code",
      "execution_count": null,
      "metadata": {
        "colab": {
          "base_uri": "https://localhost:8080/"
        },
        "id": "lxA4hID6rP4e",
        "outputId": "2e11aae4-9360-4c62-b6e2-2f880ff4cd33"
      },
      "outputs": [
        {
          "output_type": "stream",
          "name": "stdout",
          "text": [
            "أهلًا بالجميع، أنا اسمي سماهر ،عمري عشرون ،سأصبح أفضل عالمة بيانات\n"
          ]
        }
      ],
      "source": [
        "# تعريف لمتغير الاسم\n",
        "name= 'سماهر'\n",
        "# تعريف لمتغير العمر\n",
        "age= 'عشرون'\n",
        "# أمر الطباعة\n",
        "print('أهلًا بالجميع، أنا اسمي ' + name, '،عمري ' + age, '،سأصبح أفضل عالمة بيانات')"
      ]
    }
  ]
}