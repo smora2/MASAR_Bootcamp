{
  "nbformat": 4,
  "nbformat_minor": 0,
  "metadata": {
    "colab": {
      "provenance": [],
      "authorship_tag": "ABX9TyNhP6xK5NQ2/W1dDql9UkIi",
      "include_colab_link": true
    },
    "kernelspec": {
      "name": "python3",
      "display_name": "Python 3"
    },
    "language_info": {
      "name": "python"
    }
  },
  "cells": [
    {
      "cell_type": "markdown",
      "metadata": {
        "id": "view-in-github",
        "colab_type": "text"
      },
      "source": [
        "<a href=\"https://colab.research.google.com/github/smora2/MASAR_Bootcamp/blob/main/HW1.ipynb\" target=\"_parent\"><img src=\"https://colab.research.google.com/assets/colab-badge.svg\" alt=\"Open In Colab\"/></a>"
      ]
    },
    {
      "cell_type": "code",
      "execution_count": null,
      "metadata": {
        "colab": {
          "base_uri": "https://localhost:8080/"
        },
        "id": "lxA4hID6rP4e",
        "outputId": "a1a506b9-dc96-44de-a171-6c7d2a2164fb"
      },
      "outputs": [
        {
          "output_type": "stream",
          "name": "stdout",
          "text": [
            "أهلًا بالجميع، أنا اسميسماهر ،عمريعشرون ،سأصبح أفضل عالمة بيانات\n"
          ]
        }
      ],
      "source": [
        "# تعريف لمتغير الاسم\n",
        "name= 'سماهر'\n",
        "# تعريف لمتغير العمر\n",
        "age= 'عشرون'\n",
        "# أمر الطباعة\n",
        "print('أهلًا بالجميع، أنا اسمي' + name, '،عمري' + age, '،سأصبح أفضل عالمة بيانات')"
      ]
    }
  ]
}