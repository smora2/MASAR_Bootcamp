{
  "nbformat": 4,
  "nbformat_minor": 0,
  "metadata": {
    "colab": {
      "provenance": [],
      "authorship_tag": "ABX9TyNPnTsd3uV6W9Kchf5O2U34",
      "include_colab_link": true
    },
    "kernelspec": {
      "name": "python3",
      "display_name": "Python 3"
    },
    "language_info": {
      "name": "python"
    }
  },
  "cells": [
    {
      "cell_type": "markdown",
      "metadata": {
        "id": "view-in-github",
        "colab_type": "text"
      },
      "source": [
        "<a href=\"https://colab.research.google.com/github/smora2/MASAR_Bootcamp/blob/main/HW2.ipynb\" target=\"_parent\"><img src=\"https://colab.research.google.com/assets/colab-badge.svg\" alt=\"Open In Colab\"/></a>"
      ]
    },
    {
      "cell_type": "code",
      "execution_count": 7,
      "metadata": {
        "colab": {
          "base_uri": "https://localhost:8080/"
        },
        "id": "O-ZrCjiLBCrf",
        "outputId": "25456257-bde6-4a8d-bfd4-b752fc033a8b"
      },
      "outputs": [
        {
          "output_type": "stream",
          "name": "stdout",
          "text": [
            "المكافأة 10%\n"
          ]
        }
      ],
      "source": [
        "0# اذا كانت النوات اقل من او تساوي 10 سنوات\n",
        "#رمزت لكلمة التقييم الممتاز بـ true والضعيف بـ false\n",
        "\n",
        "years =10\n",
        "evaluation1= True\n",
        "evaluation2= False\n",
        "\n",
        "if years <= 10 and evaluation1== True:\n",
        "\n",
        "   print('المكافأة 10%')\n",
        "\n",
        "elif years <= 10 and evaluation2== False:\n",
        "\n",
        "   print('المكافأة 5%')\n",
        "\n",
        "if years > 10 and evaluation1== True:\n",
        "\n",
        "   print('المكافأة 20%')\n",
        "\n",
        "elif years > 10 and evaluation2== False:\n",
        "\n",
        "   print('1المكافأة 5%')\n"
      ]
    }
  ]
}