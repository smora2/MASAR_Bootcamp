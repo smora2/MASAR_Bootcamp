{
  "nbformat": 4,
  "nbformat_minor": 0,
  "metadata": {
    "colab": {
      "provenance": [],
      "authorship_tag": "ABX9TyP3SbomjSLh6iRyQXm81cOW",
      "include_colab_link": true
    },
    "kernelspec": {
      "name": "python3",
      "display_name": "Python 3"
    },
    "language_info": {
      "name": "python"
    }
  },
  "cells": [
    {
      "cell_type": "markdown",
      "metadata": {
        "id": "view-in-github",
        "colab_type": "text"
      },
      "source": [
        "<a href=\"https://colab.research.google.com/github/smora2/MASAR_Bootcamp/blob/main/Quiz1.ipynb\" target=\"_parent\"><img src=\"https://colab.research.google.com/assets/colab-badge.svg\" alt=\"Open In Colab\"/></a>"
      ]
    },
    {
      "cell_type": "code",
      "execution_count": 6,
      "metadata": {
        "colab": {
          "base_uri": "https://localhost:8080/"
        },
        "id": "LFzPjKWzIFL3",
        "outputId": "083d1bfd-b359-4d70-fa0e-fb33eeabfab2"
      },
      "outputs": [
        {
          "output_type": "stream",
          "name": "stdout",
          "text": [
            "[0, 5]\n"
          ]
        }
      ],
      "source": [
        "def two_sum(nums, target):\n",
        "    num_dict = {}\n",
        "    for i, num in enumerate(nums):\n",
        "        difference = target - num\n",
        "        if difference in num_dict:\n",
        "            return [num_dict[difference], i]\n",
        "        num_dict[num] = i\n",
        "    return None\n",
        "nums = [2, 5, 11, 15,6,7,9,10]\n",
        "target = 9\n",
        "print(two_sum(nums, target))"
      ]
    }
  ]
}