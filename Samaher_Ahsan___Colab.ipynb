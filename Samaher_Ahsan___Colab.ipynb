{
  "nbformat": 4,
  "nbformat_minor": 0,
  "metadata": {
    "colab": {
      "provenance": [],
      "collapsed_sections": [
        "CR5H_RTKzz3z",
        "B_ASpOi_5Kvb"
      ],
      "include_colab_link": true
    },
    "kernelspec": {
      "name": "python3",
      "display_name": "Python 3"
    },
    "language_info": {
      "name": "python"
    }
  },
  "cells": [
    {
      "cell_type": "markdown",
      "metadata": {
        "id": "view-in-github",
        "colab_type": "text"
      },
      "source": [
        "<a href=\"https://colab.research.google.com/github/smora2/MASAR_Bootcamp/blob/main/Samaher_Ahsan___Colab.ipynb\" target=\"_parent\"><img src=\"https://colab.research.google.com/assets/colab-badge.svg\" alt=\"Open In Colab\"/></a>"
      ]
    },
    {
      "cell_type": "markdown",
      "source": [
        "#Data Type"
      ],
      "metadata": {
        "id": "CR5H_RTKzz3z"
      }
    },
    {
      "cell_type": "markdown",
      "source": [
        "نعم، في بايثون هناك العديد من أنواع البيانات المدمجة المهمة التي يمكن استخدامها لتمثيل المعلومات. إليك بعض الأنواع الأساسية:\n",
        "\n",
        "1. **int (الأعداد الصحيحة):** تُستخدم لتمثيل الأعداد الصحيحة، مثل 1 و -5 و 100.\n",
        "\n",
        "    ```python\n",
        "    x = 5\n",
        "    ```\n",
        "\n",
        "2. **float (الأعداد العائمة):** تُستخدم لتمثيل الأعداد العائمة (الكسور أو الأعداد العشرية).\n",
        "\n",
        "    ```python\n",
        "    y = 3.14\n",
        "    ```\n",
        "\n",
        "3. **str (النصوص):** تُستخدم لتمثيل النصوص، ويمكن تحديدها بين علامتي اقتباس (فردية أو مزدوجة).\n",
        "\n",
        "    ```python\n",
        "    name = \"John\"\n",
        "    ```\n",
        "\n",
        "4. **bool (القيم االمنطقية):** تُستخدم لتمثيل القيم المنطقية (True أو False).\n",
        "True تساوي 1 و القيمة False تساوي 0.\n",
        "\n",
        "    ```python\n",
        "    is_student = True\n",
        "    ```\n",
        "\n",
        "5. **list (القوائم):** تُستخدم لتخزين مجموعة من القيم، ويمكن أن تحتوي على أنواع مختلفة.\n",
        "\n",
        "    ```python\n",
        "    numbers = [1, 2, 3, 4, 5]\n",
        "    ```\n",
        "\n",
        "6. **tuple (التراص):** شبيهة بالقوائم ولكنها لا يمكن تعديلها بعد إنشائها.\n",
        "\n",
        "    ```python\n",
        "    coordinates = (10, 20)\n",
        "    ```\n",
        "\n",
        "7. **dict (القواميس):** تُستخدم لتخزين البيانات في صورة أزواج \"مفتاح-قيمة\".\n",
        "```python\n",
        "    person = {\"name\": \"Alice\", \"age\": 25, \"city\": \"New York\"}\n",
        "    ```"
      ],
      "metadata": {
        "id": "5pEVPcKqtu7H"
      }
    },
    {
      "cell_type": "code",
      "source": [
        "# type() function is used to determine the type of data type.\n",
        "a = 5\n",
        "print(type(a))"
      ],
      "metadata": {
        "id": "HAwpAtFECSJp",
        "colab": {
          "base_uri": "https://localhost:8080/"
        },
        "outputId": "4204fde9-9ca9-47c8-fe96-22ae25bec6e0"
      },
      "execution_count": null,
      "outputs": [
        {
          "output_type": "stream",
          "name": "stdout",
          "text": [
            "<class 'int'>\n"
          ]
        }
      ]
    },
    {
      "cell_type": "code",
      "source": [
        "b = 5.0\n",
        "print(type(b))"
      ],
      "metadata": {
        "id": "0Y77vDWLC14H",
        "colab": {
          "base_uri": "https://localhost:8080/"
        },
        "outputId": "5323f413-d46a-4128-b212-cf83f1259aba"
      },
      "execution_count": null,
      "outputs": [
        {
          "output_type": "stream",
          "name": "stdout",
          "text": [
            "<class 'float'>\n"
          ]
        }
      ]
    },
    {
      "cell_type": "code",
      "source": [
        "print(type(False))"
      ],
      "metadata": {
        "id": "eDVdbFASC5CS",
        "colab": {
          "base_uri": "https://localhost:8080/"
        },
        "outputId": "d3f856b0-b9c5-40bf-e30c-00826d90fec0"
      },
      "execution_count": null,
      "outputs": [
        {
          "output_type": "stream",
          "name": "stdout",
          "text": [
            "<class 'bool'>\n"
          ]
        }
      ]
    },
    {
      "cell_type": "code",
      "source": [
        "print(type(True))"
      ],
      "metadata": {
        "colab": {
          "base_uri": "https://localhost:8080/"
        },
        "id": "BR-aHqZeDTKa",
        "outputId": "3f996074-6e13-4b63-8dee-87edb44a55e7"
      },
      "execution_count": null,
      "outputs": [
        {
          "output_type": "stream",
          "name": "stdout",
          "text": [
            "<class 'bool'>\n"
          ]
        }
      ]
    },
    {
      "cell_type": "code",
      "source": [
        "A = []                                 # هنا قمنا بتعريف مصفوفة فارغة\n",
        "B = [10, 20, 30, 40, 50]               # هنا قمنا بتعريف مصفوفة تحتوي على أعداد صحيحة فقط\n",
        "C = ['Mhamad', 'Samer', 'Abdullah']    # هنا قمنا بتعريف مصفوفة تحتوي على نصوص فقط\n",
        "D = [1, 'two', 'three', 4]             # هنا قمنا بتعريف مصفوفة تحتوي على أعداد صحيحة و نصوص"
      ],
      "metadata": {
        "id": "wTBytu4U4I9n"
      },
      "execution_count": null,
      "outputs": []
    },
    {
      "cell_type": "code",
      "source": [
        "A = ()                                 # هنا قمنا بتعريف مصفوفة فارغة\n",
        "B = (10, 20, 30, 40, 50)               # هنا قمنا بتعريف مصفوفة تحتوي على أعداد صحيحة فقط\n",
        "C = ('Mhamad', 'Samer', 'Abdullah')    # هنا قمنا بتعريف مصفوفة تحتوي على نصوص فقط\n",
        "D = (1, 'two', 'three', 4)             # هنا قمنا بتعريف مصفوفة تحتوي على أعداد صحيحة و نصوص"
      ],
      "metadata": {
        "id": "xmWnMrZU4Q8d"
      },
      "execution_count": null,
      "outputs": []
    },
    {
      "cell_type": "code",
      "source": [
        "# يتألف من 5 عناصر dictionary هنا قمنا بتعريف\n",
        "dictionary = {\n",
        "    1: 'One',\n",
        "    2: 'Tow',\n",
        "    3: 'Three',\n",
        "    4: 'Four',\n",
        "    5: 'Five'\n",
        "}\n",
        "\n",
        "dictionary = {1:'One', 2: 'Tow', 3: 'Three',4: 'Four',5: 'Five'}\n",
        "# هنا قمنا بعرض قيمة العنصر الذي يحمل المفتاح رقم 3\n",
        "print(dictionary[3])"
      ],
      "metadata": {
        "id": "c0UJTB6RDXe-",
        "colab": {
          "base_uri": "https://localhost:8080/"
        },
        "outputId": "e5835e9b-18c4-456d-eade-02967e14d294"
      },
      "execution_count": null,
      "outputs": [
        {
          "output_type": "stream",
          "name": "stdout",
          "text": [
            "Three\n"
          ]
        }
      ]
    },
    {
      "cell_type": "code",
      "source": [
        "#معسكر_مسار\n",
        "name = 'Samaher'\n",
        "message = '''تجربة جديدة وتعلم المزيد'''\n",
        "# هنا قمنا بعرض قيم المتغيرات النصية بأسلوب مرتب\n",
        "print('Name: ', name)\n",
        "print('Message: ', message)"
      ],
      "metadata": {
        "colab": {
          "base_uri": "https://localhost:8080/"
        },
        "id": "Imd0jZRCD_4u",
        "outputId": "51d22ca9-ac14-48b6-91a1-0c41645c6fe7"
      },
      "execution_count": null,
      "outputs": [
        {
          "output_type": "stream",
          "name": "stdout",
          "text": [
            "Name:  Samaher\n",
            "Message:  تجربة جديدة وتعلم المزيد\n"
          ]
        }
      ]
    },
    {
      "cell_type": "markdown",
      "source": [
        "#if Statment\n"
      ],
      "metadata": {
        "id": "0O0gl-ortJmq"
      }
    },
    {
      "cell_type": "markdown",
      "source": [
        "في لغة البرمجة بايثون، تُستخدم الجمل الشرطية لتنفيذ قطعة معينة من الكود إذا تحققت شرط معين. هناك نوعان رئيسيان من الجمل الشرطية في بايثون:\n",
        "\n",
        "جملة if وجملة else.\n",
        "\n",
        "الجملة `if`:\n",
        "\n",
        "```\n",
        "age = 55\n",
        "\n",
        "if age >= 18:\n",
        "\n",
        "print(\"أنت بالغ.\")\n",
        "```\n",
        "\n",
        "\n",
        "الجملة `else`:\n",
        "تُستخدم لتحديد كتلة من الكود التي يجب تنفيذها إذا لم يكن الشرط الاول المحدد صحيحا\n",
        "\n",
        "\n",
        ". صيغة الجملة `else`\n",
        "\n",
        "تأتي بعد الجملة `if`\n",
        "وتكون كالتالي:\n",
        "\n",
        "\n",
        "```\n",
        "age = 15\n",
        "\n",
        "if\n",
        "age > 18:\n",
        "    print(\"أنت بالغ.\")\n",
        "else:\n",
        "    print(\"أنت قاصر.\")\n",
        "```\n",
        "\n",
        "يمكن أيضًا استخدام جمل\n",
        "`elif`\n",
        "\n",
        "elif (اختصار لـ else if) لفحص شروط إضافية في حالة عدم تحقق الشرط الأولي.\n",
        "\n",
        "```\n",
        "```\n",
        "\n",
        "\n"
      ],
      "metadata": {
        "id": "1ai0Rvscv4A4"
      }
    },
    {
      "cell_type": "code",
      "source": [
        "age = 55\n",
        "\n",
        "if age >= 18:\n",
        "  print(\"أنت بالغ.\")"
      ],
      "metadata": {
        "id": "hYzyVpWjt-Yc",
        "colab": {
          "base_uri": "https://localhost:8080/"
        },
        "outputId": "441a75ca-55d0-4ec5-8519-01debb3d399d"
      },
      "execution_count": null,
      "outputs": [
        {
          "output_type": "stream",
          "name": "stdout",
          "text": [
            "أنت بالغ.\n"
          ]
        }
      ]
    },
    {
      "cell_type": "code",
      "source": [
        "age = 15\n",
        "\n",
        "if age > 18:\n",
        "    print(\"أنت بالغ.\")\n",
        "else:\n",
        "    print(\"أنت قاصر.\")"
      ],
      "metadata": {
        "id": "6ZONaYnXyS9Z",
        "colab": {
          "base_uri": "https://localhost:8080/"
        },
        "outputId": "6ade5704-3afd-409e-9a21-bcfa3e19f8cb"
      },
      "execution_count": null,
      "outputs": [
        {
          "output_type": "stream",
          "name": "stdout",
          "text": [
            "أنت قاصر.\n"
          ]
        }
      ]
    },
    {
      "cell_type": "code",
      "source": [
        "number = 0\n",
        "if number> 0 :\n",
        "    print('Positive number')\n",
        "elif number< 0 :\n",
        "    print('Negative number')\n",
        "else:\n",
        "    print('Zero')"
      ],
      "metadata": {
        "id": "VJZQdk63yaza",
        "colab": {
          "base_uri": "https://localhost:8080/"
        },
        "outputId": "b38ee6f0-af2b-4214-f332-b39e4c5ccf98"
      },
      "execution_count": null,
      "outputs": [
        {
          "output_type": "stream",
          "name": "stdout",
          "text": [
            "Zero\n"
          ]
        }
      ]
    },
    {
      "cell_type": "code",
      "source": [
        "check = True\n",
        "# True تساوي check سيتم تنفيذ أمر الطباعة الموضوع هنا إذا كانت قيمة المتغير\n",
        "if check == True:\n",
        "    print('check = True')\n",
        "# False أي إذا كانت تساوي True تساوي check سيتم تنفيذ أمر الطباعة الموضوع هنا إذا لم تكن قيمة المتغير\n",
        "else:\n",
        "    print('check = False')"
      ],
      "metadata": {
        "id": "8jqKDsiWEzF2",
        "colab": {
          "base_uri": "https://localhost:8080/"
        },
        "outputId": "ea48e111-b282-4d49-c0c8-cdd98ed1a902"
      },
      "execution_count": null,
      "outputs": [
        {
          "output_type": "stream",
          "name": "stdout",
          "text": [
            "check = True\n"
          ]
        }
      ]
    },
    {
      "cell_type": "markdown",
      "source": [
        "#العوامل التي تستخدم في وضع شروط منطقية (Logical Operators)"
      ],
      "metadata": {
        "id": "B_ASpOi_5Kvb"
      }
    },
    {
      "cell_type": "markdown",
      "source": [
        "`if شرط_أول or شرط_ثاني:`\n",
        "\n",
        "الكود الذي سيُنفذ إذا كان أي من الشروط صحيحًا\n",
        "\n",
        "\n",
        "`if شرط_أول and شرط_ثاني:`\n",
        "\n",
        "الكود الذي سيُنفذ إذا كانت جميع الشروط صحيحة"
      ],
      "metadata": {
        "id": "dURuRs4Oys9l"
      }
    },
    {
      "cell_type": "code",
      "source": [
        "a = 10\n",
        "b = 20\n",
        "\n",
        "# تساوي 20 سيتم تنفيذ أمر الطباعة b تساوي 10, و قيمة المتغير a الشرط التالي يعني أنه إذا كانت قيمة المتغير\n",
        "if a == 10 and b == 20:\n",
        "    print('The first and the second conditions return True')"
      ],
      "metadata": {
        "id": "IyA1Wc_7zEzn"
      },
      "execution_count": null,
      "outputs": []
    },
    {
      "cell_type": "code",
      "source": [
        "# Python program to demonstrate\n",
        "# logical and operator\n",
        "\n",
        "a = 10\n",
        "b = 12\n",
        "c = 0\n",
        "\n",
        "if :\n",
        "    print(\"All the numbers have boolean value as True\")\n",
        "else:\n",
        "    print(\"Atleast one number has boolean value as False\")"
      ],
      "metadata": {
        "id": "3sPUUjOLGgMV"
      },
      "execution_count": null,
      "outputs": []
    }
  ]
}